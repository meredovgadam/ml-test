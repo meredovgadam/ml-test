{
 "cells": [
  {
   "cell_type": "code",
   "execution_count": 4,
   "id": "f1db23e4",
   "metadata": {
    "scrolled": true
   },
   "outputs": [
    {
     "name": "stdout",
     "output_type": "stream",
     "text": [
      "Original phrase: The weather was unusually sunny, a pleasant backdrop to our serious discussions.\n",
      "Recommended replacement: Maintain a high standard\n",
      "Similarity score: 0.7242502243096347\n",
      "\n",
      "Original phrase: Growth is essential for our future, but equally important is building strong relationships with our team members.\n",
      "Recommended replacement: Implement best practices\n",
      "Similarity score: 0.7483474419578586\n",
      "\n"
     ]
    }
   ],
   "source": [
    "import spacy\n",
    "\n",
    "# Load the pre-trained language model\n",
    "nlp = spacy.load(\"en_core_web_md\")\n",
    "\n",
    "# Pre-loaded list of standardized phrases\n",
    "standardized_phrases = [\n",
    "    \"Optimal performance\",\n",
    "    \"Utilize resources\",\n",
    "    \"Enhance productivity\",\n",
    "    \"Conduct an analysis\",\n",
    "    \"Maintain a high standard\",\n",
    "    \"Implement best practices\",\n",
    "    \"Ensure compliance\",\n",
    "    \"Streamline operations\",\n",
    "    \"Foster innovation\",\n",
    "    \"Drive growth\",\n",
    "    \"Leverage synergies\",\n",
    "    \"Demonstrate leadership\",\n",
    "    \"Exercise due diligence\",\n",
    "    \"Maximize stakeholder value\",\n",
    "    \"Prioritize tasks\",\n",
    "    \"Facilitate collaboration\",\n",
    "    \"Monitor performance metrics\",\n",
    "    \"Execute strategies\",\n",
    "    \"Gauge effectiveness\",\n",
    "    \"Champion change\"\n",
    "]\n",
    "\n",
    "# Function to analyze the input text and provide suggestions for improvements\n",
    "def analyze_text(input_text):\n",
    "    suggestions = []\n",
    "    \n",
    "    # Tokenize the input text into sentences or phrases\n",
    "    doc = nlp(input_text)\n",
    "    for sentence in doc.sents:\n",
    "        # Initialize variables to track the best suggestion\n",
    "        best_similarity = 0\n",
    "        best_suggestion = None\n",
    "        \n",
    "        # Compare sentence with each standardized phrase\n",
    "        for phrase in standardized_phrases:\n",
    "            similarity = sentence.similarity(nlp(phrase))\n",
    "            \n",
    "            # Update the best suggestion if the similarity is higher than previous ones\n",
    "            if similarity > best_similarity:\n",
    "                best_similarity = similarity\n",
    "                best_suggestion = phrase\n",
    "        \n",
    "        # If the best suggestion has a similarity score above a threshold, add it to the suggestions list\n",
    "        if best_similarity > 0.7:\n",
    "            suggestions.append({\n",
    "                'original': sentence.text,\n",
    "                'replacement': best_suggestion,\n",
    "                'similarity_score': best_similarity\n",
    "            })\n",
    "\n",
    "    return suggestions\n",
    "\n",
    "# Example usage\n",
    "input_text = \"In today's meeting, we discussed a variety of issues affecting our department. The weather was unusually sunny, a pleasant backdrop to our serious discussions. We came to the consensus that we need to do better in terms of performance. Sally brought doughnuts, which lightened the mood. It's important to make good use of what we have at our disposal. During the coffee break, we talked about the upcoming company picnic. We should aim to be more efficient and look for ways to be more creative in our daily tasks. Growth is essential for our future, but equally important is building strong relationships with our team members. As a reminder, the annual staff survey is due next Friday. Lastly, we agreed that we must take time to look over our plans carefully and consider all angles before moving forward. On a side note, David mentioned that his cat is recovering well from surgery.\"\n",
    "suggestions = analyze_text(input_text)\n",
    "\n",
    "# Print suggestions\n",
    "for suggestion in suggestions:\n",
    "    print(\"Original phrase:\", suggestion['original'])\n",
    "    print(\"Recommended replacement:\", suggestion['replacement'])\n",
    "    print(\"Similarity score:\", suggestion['similarity_score'])\n",
    "    print()\n"
   ]
  },
  {
   "cell_type": "code",
   "execution_count": null,
   "id": "058eb0ba",
   "metadata": {},
   "outputs": [],
   "source": [
    "pip install spacy"
   ]
  }
 ],
 "metadata": {
  "kernelspec": {
   "display_name": "Python 3 (ipykernel)",
   "language": "python",
   "name": "python3"
  },
  "language_info": {
   "codemirror_mode": {
    "name": "ipython",
    "version": 3
   },
   "file_extension": ".py",
   "mimetype": "text/x-python",
   "name": "python",
   "nbconvert_exporter": "python",
   "pygments_lexer": "ipython3",
   "version": "3.11.4"
  }
 },
 "nbformat": 4,
 "nbformat_minor": 5
}
